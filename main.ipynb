{
 "cells": [
  {
   "cell_type": "code",
   "execution_count": null,
   "metadata": {},
   "outputs": [],
   "source": [
    "from dataset import MetaQADataset\n",
    "from question_tokenizer import QuestionTokenizer\n",
    "import torch\n",
    "DEVICE = torch.device(\"cuda\" if torch.cuda.is_available() else \"cpu\")\n",
    "DEVICE"
   ]
  },
  {
   "cell_type": "code",
   "execution_count": null,
   "metadata": {},
   "outputs": [],
   "source": [
    "\n",
    "m = MetaQADataset('/mnt/infonas/data/jayeshs/data/MetaQA')\n",
    "qs_data = m.getQSdata(\"train\")\n",
    "len(qs_data)"
   ]
  },
  {
   "cell_type": "code",
   "execution_count": null,
   "metadata": {},
   "outputs": [],
   "source": [
    "tokenizer = QuestionTokenizer()\n",
    "\n",
    "encoding = tokenizer.encode([qs[0] for qs in qs_data])\n",
    "encoding"
   ]
  },
  {
   "cell_type": "code",
   "execution_count": null,
   "metadata": {},
   "outputs": [],
   "source": [
    "from question_embedding import QuestionEmbeddingModule\n",
    "\n",
    "encoder = QuestionEmbeddingModule()\n",
    "encoder.to(DEVICE)\n",
    "encoder.set_device(DEVICE)\n",
    "\n",
    "embedding = encoder(**encoding)\n",
    "embedding"
   ]
  },
  {
   "cell_type": "code",
   "execution_count": null,
   "metadata": {},
   "outputs": [],
   "source": []
  }
 ],
 "metadata": {
  "kernelspec": {
   "display_name": "Python 3.8.13",
   "language": "python",
   "name": "python3"
  },
  "language_info": {
   "codemirror_mode": {
    "name": "ipython",
    "version": 3
   },
   "file_extension": ".py",
   "mimetype": "text/x-python",
   "name": "python",
   "nbconvert_exporter": "python",
   "pygments_lexer": "ipython3",
   "version": "3.8.13"
  },
  "orig_nbformat": 4,
  "vscode": {
   "interpreter": {
    "hash": "4f7d7758a8eec66adccc9712651208242207de11c6cf74853cc55df7a25fce09"
   }
  }
 },
 "nbformat": 4,
 "nbformat_minor": 2
}
