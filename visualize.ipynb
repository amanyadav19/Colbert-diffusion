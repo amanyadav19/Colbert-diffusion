{
 "cells": [
  {
   "cell_type": "code",
   "execution_count": null,
   "metadata": {},
   "outputs": [],
   "source": [
    "from dataset import MetaQADataset, QuerySubgraphDataset, collate_batch\n",
    "from question_tokenizer import QuestionTokenizer\n",
    "import torch\n",
    "from torch.utils.data import DataLoader\n",
    "from visualize.utils import visualize"
   ]
  },
  {
   "cell_type": "code",
   "execution_count": null,
   "metadata": {},
   "outputs": [],
   "source": [
    "DATA_ROOT = '/mnt/infonas/data/jayeshs/data/MetaQA'\n",
    "DEVICE = torch.device('cpu')\n",
    "# DEVICE = torch.device(\"cuda\" if torch.cuda.is_available() else \"cpu\")\n",
    "print(DEVICE)"
   ]
  },
  {
   "cell_type": "code",
   "execution_count": null,
   "metadata": {},
   "outputs": [],
   "source": [
    "metaqa_graph = MetaQADataset(DATA_ROOT)\n",
    "len(metaqa_graph.entities)"
   ]
  },
  {
   "cell_type": "code",
   "execution_count": null,
   "metadata": {},
   "outputs": [],
   "source": [
    "qs_train_data = QuerySubgraphDataset(DATA_ROOT, 'train', metaqa_graph)\n",
    "len(qs_train_data)"
   ]
  },
  {
   "cell_type": "code",
   "execution_count": null,
   "metadata": {},
   "outputs": [],
   "source": [
    "tokenizer = QuestionTokenizer()\n",
    "qs_dataloader = DataLoader(qs_train_data, collate_fn=lambda x: collate_batch(x, tokenizer.encode, metaqa_graph, visualize=True))"
   ]
  },
  {
   "cell_type": "code",
   "execution_count": null,
   "metadata": {},
   "outputs": [],
   "source": [
    "for batch in qs_dataloader:\n",
    "    q, p_sg, n_sg = batch\n",
    "    visualize(p_sg[0],'visualize/pos.html',heading=q[0])\n",
    "    visualize(n_sg[0],'visualize/neg.html',heading=q[0])\n",
    "    break"
   ]
  },
  {
   "cell_type": "code",
   "execution_count": null,
   "metadata": {},
   "outputs": [],
   "source": []
  }
 ],
 "metadata": {
  "kernelspec": {
   "display_name": "Python 3.8.13",
   "language": "python",
   "name": "python3"
  },
  "language_info": {
   "codemirror_mode": {
    "name": "ipython",
    "version": 3
   },
   "file_extension": ".py",
   "mimetype": "text/x-python",
   "name": "python",
   "nbconvert_exporter": "python",
   "pygments_lexer": "ipython3",
   "version": "3.8.13"
  },
  "orig_nbformat": 4,
  "vscode": {
   "interpreter": {
    "hash": "4f7d7758a8eec66adccc9712651208242207de11c6cf74853cc55df7a25fce09"
   }
  }
 },
 "nbformat": 4,
 "nbformat_minor": 2
}
